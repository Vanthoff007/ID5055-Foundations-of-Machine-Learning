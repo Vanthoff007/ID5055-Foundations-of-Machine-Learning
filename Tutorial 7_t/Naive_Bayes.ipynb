{
 "cells": [
  {
   "cell_type": "markdown",
   "id": "0866e616",
   "metadata": {
    "id": "0866e616"
   },
   "source": [
    "# Tutorial 6: ID5055 Foundations of Machine Learning\n",
    "\n",
    "**Topics Covered:** Naive Bayes Classifier"
   ]
  },
  {
   "cell_type": "markdown",
   "id": "5efb9684",
   "metadata": {
    "id": "5efb9684"
   },
   "source": [
    "#### TASKS\n",
    "\n",
    "1. Use a Gaussian Naive Bayes Classifier to classify Datasets 1-4 given below; Print confusion matrices for the class-imbalanced datasets 3 \\& 4\n",
    "2. **(optional)** Play around with dataset generation parameters (number of features, class separation etc.)\n",
    "3. Create datasets with number of features - 1000, 2000, 3000, 4000 and 5000. For this question use the same dataset generation parameters as Dataset 1 in notebook. Change only the number of features per datapoint.\n",
    "4. Use time module to calculate runtime of Naive Bayes for each dataset in Qn3 and plot results"
   ]
  },
  {
   "cell_type": "markdown",
   "id": "1d50f3ee",
   "metadata": {
    "id": "1d50f3ee"
   },
   "source": [
    "## Import Libraries\n",
    "\n",
    "Import all the necessary libraries."
   ]
  },
  {
   "cell_type": "code",
   "execution_count": 15,
   "id": "86041a5e",
   "metadata": {
    "id": "86041a5e"
   },
   "outputs": [],
   "source": [
    "import time\n",
    "import random\n",
    "import sklearn\n",
    "import numpy as np\n",
    "import pandas as pd\n",
    "import seaborn as sns\n",
    "import matplotlib.pyplot as plt\n",
    "\n",
    "from sklearn.manifold import TSNE\n",
    "from sklearn.metrics import accuracy_score\n",
    "from sklearn.naive_bayes import GaussianNB\n",
    "from sklearn.datasets import make_classification\n",
    "from sklearn.model_selection import train_test_split\n",
    "from sklearn.metrics import confusion_matrix, ConfusionMatrixDisplay"
   ]
  },
  {
   "cell_type": "code",
   "execution_count": 16,
   "id": "b0e836d8",
   "metadata": {
    "id": "b0e836d8"
   },
   "outputs": [],
   "source": [
    "# set random seeds\n",
    "random.seed = 42\n",
    "np.random.seed = 42\n",
    "sns.set_style('darkgrid')"
   ]
  },
  {
   "cell_type": "markdown",
   "id": "f8d365fc",
   "metadata": {
    "id": "f8d365fc"
   },
   "source": [
    "## Dataset Generation"
   ]
  },
  {
   "cell_type": "code",
   "execution_count": 17,
   "id": "0b72a903",
   "metadata": {
    "id": "0b72a903"
   },
   "outputs": [],
   "source": [
    "### DO NOT EDIT ###\n",
    "def data_gen(n_data, n_class, weights = None, f_tot = 6, f_info = 6, f_red = 0, class_sep = 1, name = 'data1_nb'):\n",
    "    X,Y = make_classification(n_samples = n_data,\n",
    "                             n_features = f_tot,\n",
    "                             n_classes = n_class,\n",
    "                             n_informative = f_info,\n",
    "                             n_redundant = f_red,\n",
    "                             n_clusters_per_class = 1,\n",
    "                             weights = weights,\n",
    "                             hypercube = True,\n",
    "                             random_state = 42,\n",
    "                             class_sep= class_sep)\n",
    "    return X, Y"
   ]
  },
  {
   "cell_type": "code",
   "execution_count": 18,
   "id": "a188dcf2",
   "metadata": {
    "id": "a188dcf2",
    "scrolled": false
   },
   "outputs": [],
   "source": [
    "### DO NOT EDIT ###\n",
    "# Creating the datasets\n",
    "n_samples = 2000\n",
    "n_classes = 2\n",
    "\n",
    "# DATASET 1 - 1000 features\n",
    "X1, Y1 = data_gen(n_data = n_samples,\n",
    "                  n_class = n_classes,\n",
    "                  weights = None,\n",
    "                  f_tot = 1000,\n",
    "                  f_info = 1000,\n",
    "                  name = 'data1_nb')\n",
    "\n",
    "# DATASET 2 - 5000 features\n",
    "X2, Y2 = data_gen(n_data = n_samples,\n",
    "                  n_class = n_classes,\n",
    "                  weights = None,\n",
    "                  f_tot = 5000,\n",
    "                  f_info = 5000,\n",
    "                  name = 'data2_nb')\n",
    "\n",
    "# DATASET 3 - 20:80 class imbalanced\n",
    "X3, Y3 = data_gen(n_data = n_samples,\n",
    "                  n_class = n_classes,\n",
    "                  weights = [0.2, 0.8],\n",
    "                  f_tot = 1000,\n",
    "                  f_info = 1000,\n",
    "                  name = 'data3_nb')\n",
    "\n",
    "# DATASET 4 - 10:90 class imbalanced\n",
    "X4, Y4 = data_gen(n_data = n_samples,\n",
    "                  n_class = n_classes,\n",
    "                  weights = [0.05, 0.95],\n",
    "                  f_tot = 1000,\n",
    "                  f_info = 1000,\n",
    "                  name = 'data4_nb')"
   ]
  },
  {
   "cell_type": "code",
   "execution_count": 19,
   "id": "ed39dd52",
   "metadata": {
    "id": "ed39dd52"
   },
   "outputs": [],
   "source": [
    "### DO NOT EDIT ###\n",
    "# splitting each dataset into test and train sets\n",
    "\n",
    "X1_train, X1_test, Y1_train, Y1_test = train_test_split(X1, Y1, test_size=0.2, random_state=42, shuffle=True)\n",
    "X2_train, X2_test, Y2_train, Y2_test = train_test_split(X2, Y2, test_size=0.2, random_state=42, shuffle=True)\n",
    "X3_train, X3_test, Y3_train, Y3_test = train_test_split(X3, Y3, test_size=0.2, random_state=42, shuffle=True)\n",
    "X4_train, X4_test, Y4_train, Y4_test = train_test_split(X4, Y4, test_size=0.2, random_state=42, shuffle=True)"
   ]
  },
  {
   "cell_type": "markdown",
   "id": "b933502a",
   "metadata": {
    "id": "b933502a"
   },
   "source": [
    "## Naive Bayes Classifier\n",
    "\n",
    "Naive Bayes classifiers are a family of simple probabilistic classifiers which are based on Bayes Theorem. It is a fast and classification method and scales very efficiently with number of features.\n",
    "\n",
    "**Naive Assumption**: The main assumption of such classifiers is in assuming that the effect of every feature in a class is independent of other features. This independence assumption gives these classifiers the name.\n",
    "\n",
    "**Training**: Training a Naive Bayes classifier involves estimating the class probabilities and the conditional probabilities of features given each class. Once the classifier is trained, it can be used to make predictions. Given a set of feature values, it calculates the probability of the instance belonging to each class and assigns it to the class with the highest probability.\n",
    "\n",
    "**Limitations**:This method is however not so reliable when the underlying independence assumption is not true or when the data shows very complex relationships which it cannot capture."
   ]
  },
  {
   "cell_type": "code",
   "execution_count": 20,
   "id": "09ce8ff4",
   "metadata": {
    "id": "09ce8ff4"
   },
   "outputs": [],
   "source": [
    "### DO NOT EDIT ###\n",
    "def NBClassifier(X_train, Y_train, X_test, Y_test, d, conf = True):\n",
    "    tick = time.time()\n",
    "    model = GaussianNB()\n",
    "    model.fit(X_train, Y_train)\n",
    "    tock = time.time()\n",
    "\n",
    "    Y_pred = model.predict(X_test)\n",
    "    acc = accuracy_score(Y_test, Y_pred)\n",
    "    cm = confusion_matrix(Y_test, Y_pred)\n",
    "\n",
    "    print('**************************************')\n",
    "    print('Dataset:', d)\n",
    "    print(f\"Accuracy: {acc:0,.4f}\")\n",
    "    sns.set_style(\"white\")\n",
    "    if conf:\n",
    "        disp = ConfusionMatrixDisplay(confusion_matrix=cm)\n",
    "        disp.plot()\n",
    "        plt.show()\n",
    "\n",
    "    return tock-tick"
   ]
  },
  {
   "cell_type": "markdown",
   "id": "c9fb4cb4",
   "metadata": {
    "id": "c9fb4cb4"
   },
   "source": [
    "#### Dataset 1"
   ]
  },
  {
   "cell_type": "code",
   "execution_count": 21,
   "id": "11caf01a",
   "metadata": {
    "colab": {
     "base_uri": "https://localhost:8080/",
     "height": 518
    },
    "id": "11caf01a",
    "outputId": "378db43e-017d-4a5e-ab97-2b68e487f14a"
   },
   "outputs": [
    {
     "name": "stdout",
     "output_type": "stream",
     "text": [
      "**************************************\n",
      "Dataset: 1\n",
      "Accuracy: 0.8525\n"
     ]
    },
    {
     "data": {
      "image/png": "[encoded data removed]",
      "text/plain": [
       "<Figure size 640x480 with 2 Axes>"
      ]
     },
     "metadata": {},
     "output_type": "display_data"
    },
    {
     "name": "stdout",
     "output_type": "stream",
     "text": [
      "Time Taken (seconds): 0.02407526969909668\n"
     ]
    }
   ],
   "source": [
    "time1 = NBClassifier(X1_train, Y1_train, X1_test, Y1_test, 1)\n",
    "print('Time Taken (seconds):', time1)"
   ]
  },
  {
   "cell_type": "markdown",
   "id": "93bf5110",
   "metadata": {
    "id": "93bf5110"
   },
   "source": [
    "#### Dataset 2"
   ]
  },
  {
   "cell_type": "code",
   "execution_count": 22,
   "id": "413cdcb1",
   "metadata": {
    "colab": {
     "base_uri": "https://localhost:8080/",
     "height": 518
    },
    "id": "413cdcb1",
    "outputId": "7fc45629-86ec-4cae-b404-f3927b310a86"
   },
   "outputs": [
    {
     "name": "stdout",
     "output_type": "stream",
     "text": [
      "**************************************\n",
      "Dataset: 2\n",
      "Accuracy: 0.6900\n"
     ]
    },
    {
     "data": {
      "image/png": "[encoded data removed]",
      "text/plain": [
       "<Figure size 640x480 with 2 Axes>"
      ]
     },
     "metadata": {},
     "output_type": "display_data"
    },
    {
     "name": "stdout",
     "output_type": "stream",
     "text": [
      "Time Taken (seconds): 0.1185297966003418\n"
     ]
    }
   ],
   "source": [
    "time2 = NBClassifier(X2_train, Y2_train, X2_test, Y2_test, 2)\n",
    "print('Time Taken (seconds):', time2)"
   ]
  },
  {
   "cell_type": "markdown",
   "id": "5b2dfed6",
   "metadata": {
    "id": "5b2dfed6"
   },
   "source": [
    "#### Dataset 3"
   ]
  },
  {
   "cell_type": "code",
   "execution_count": 23,
   "id": "e197f1cd",
   "metadata": {
    "colab": {
     "base_uri": "https://localhost:8080/",
     "height": 518
    },
    "id": "e197f1cd",
    "outputId": "0bd9cabe-74ac-48a6-89e8-cd7d43196708"
   },
   "outputs": [
    {
     "name": "stdout",
     "output_type": "stream",
     "text": [
      "**************************************\n",
      "Dataset: 3\n",
      "Accuracy: 0.8675\n"
     ]
    },
    {
     "data": {
      "image/png": "[encoded data removed]",
      "text/plain": [
       "<Figure size 640x480 with 2 Axes>"
      ]
     },
     "metadata": {},
     "output_type": "display_data"
    },
    {
     "name": "stdout",
     "output_type": "stream",
     "text": [
      "Time Taken (seconds): 0.020758867263793945\n"
     ]
    }
   ],
   "source": [
    "time3 = NBClassifier(X3_train, Y3_train, X3_test, Y3_test, 3)\n",
    "print('Time Taken (seconds):', time3)"
   ]
  },
  {
   "cell_type": "markdown",
   "id": "db26a50b",
   "metadata": {
    "id": "db26a50b"
   },
   "source": [
    "#### Dataset 4"
   ]
  },
  {
   "cell_type": "code",
   "execution_count": 24,
   "id": "53b4504f",
   "metadata": {
    "colab": {
     "base_uri": "https://localhost:8080/",
     "height": 518
    },
    "id": "53b4504f",
    "outputId": "700c319a-deec-4752-a26c-d3b84f90f487"
   },
   "outputs": [
    {
     "name": "stdout",
     "output_type": "stream",
     "text": [
      "**************************************\n",
      "Dataset: 4\n",
      "Accuracy: 0.9500\n"
     ]
    },
    {
     "data": {
      "image/png": "[encoded data removed]",
      "text/plain": [
       "<Figure size 640x480 with 2 Axes>"
      ]
     },
     "metadata": {},
     "output_type": "display_data"
    },
    {
     "name": "stdout",
     "output_type": "stream",
     "text": [
      "Time Taken (seconds): 0.027128219604492188\n"
     ]
    }
   ],
   "source": [
    "time4 = NBClassifier(X4_train, Y4_train, X4_test, Y4_test, 4)\n",
    "print('Time Taken (seconds):', time4)"
   ]
  },
  {
   "cell_type": "code",
   "execution_count": 26,
   "id": "83f8bbab",
   "metadata": {
    "id": "83f8bbab"
   },
   "outputs": [],
   "source": [
    "### Write your code here"
   ]
  },
  {
   "cell_type": "code",
   "execution_count": null,
   "id": "G3nnZotaOK29",
   "metadata": {
    "id": "G3nnZotaOK29"
   },
   "outputs": [],
   "source": []
  }
 ],
 "metadata": {
  "colab": {
   "provenance": []
  },
  "kernelspec": {
   "display_name": "Python 3",
   "language": "python",
   "name": "python3"
  },
  "language_info": {
   "codemirror_mode": {
    "name": "ipython",
    "version": 3
   },
   "file_extension": ".py",
   "mimetype": "text/x-python",
   "name": "python",
   "nbconvert_exporter": "python",
   "pygments_lexer": "ipython3",
   "version": "3.8.8"
  }
 },
 "nbformat": 4,
 "nbformat_minor": 5
}
