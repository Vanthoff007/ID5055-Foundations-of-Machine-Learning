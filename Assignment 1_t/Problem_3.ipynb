{
  "cells": [
    {
      "cell_type": "markdown",
      "source": [
        "# PROBLEM 3"
      ],
      "metadata": {
        "id": "jM4-CH8hiG-K"
      },
      "id": "jM4-CH8hiG-K"
    },
    {
      "cell_type": "markdown",
      "source": [
        "#### Importing the required packages"
      ],
      "metadata": {
        "id": "igDxb-B6Wynw"
      },
      "id": "igDxb-B6Wynw"
    },
    {
      "cell_type": "code",
      "execution_count": 16,
      "id": "d66a7a53",
      "metadata": {
        "id": "d66a7a53"
      },
      "outputs": [],
      "source": [
        "import numpy as np\n",
        "import pandas as pd"
      ]
    },
    {
      "cell_type": "markdown",
      "source": [
        "#### (a) Generating Data with 200 samples and 10 features and Performing PCA"
      ],
      "metadata": {
        "id": "dCOLp6ytW3XB"
      },
      "id": "dCOLp6ytW3XB"
    },
    {
      "cell_type": "code",
      "execution_count": 17,
      "id": "ff2b0e93",
      "metadata": {
        "id": "ff2b0e93"
      },
      "outputs": [],
      "source": [
        "np.random.seed(0)\n",
        "num_samples = 200\n",
        "num_features = 10\n",
        "X = np.random.normal(size = (num_samples, num_features))\n",
        "\n",
        "# Calculate the mean of the data\n",
        "mean_vec = np.mean(X, axis=0)\n",
        "\n",
        "# Center the data by subtracting the mean\n",
        "X_centered = X - mean_vec\n",
        "\n",
        "# Perform SVD on the centered data\n",
        "U, S, Vt = np.linalg.svd(X_centered)\n",
        "\n",
        "# Calculate the principal components\n",
        "principal_components = Vt.T[:, :2]"
      ]
    },
    {
      "cell_type": "markdown",
      "source": [
        "#### (b) Calculate the Sum of Distances"
      ],
      "metadata": {
        "id": "YANdjLa0W9V4"
      },
      "id": "YANdjLa0W9V4"
    },
    {
      "cell_type": "code",
      "execution_count": 18,
      "id": "1992e8e4",
      "metadata": {
        "colab": {
          "base_uri": "https://localhost:8080/"
        },
        "id": "1992e8e4",
        "outputId": "e00c7f26-1c6f-4f37-d55f-cc064d33bc66"
      },
      "outputs": [
        {
          "output_type": "stream",
          "name": "stdout",
          "text": [
            "Sum of the distances between samples and plane: 516.8355639975055\n"
          ]
        }
      ],
      "source": [
        "# Project the centered data onto the plane formed by the first 2 principal components\n",
        "projected_data = X_centered.dot(principal_components)\n",
        "\n",
        "# Calculate distances between samples and the plane\n",
        "distances = np.linalg.norm(X_centered - projected_data.dot(principal_components.T), axis=1)\n",
        "\n",
        "print(\"Sum of the distances between samples and plane:\", sum(distances))"
      ]
    },
    {
      "cell_type": "markdown",
      "source": [
        "#### (c) Generate Random Planes and Calculate Distances"
      ],
      "metadata": {
        "id": "omq4hb67XB1l"
      },
      "id": "omq4hb67XB1l"
    },
    {
      "cell_type": "code",
      "source": [
        "# Function to calculate sum of distances between samples and a given plane\n",
        "def sum_distances_to_plane(plane_normal, plane_point, samples):\n",
        "    distances = np.abs(np.dot(samples - plane_point, plane_normal))\n",
        "    return np.sum(distances)\n",
        "\n",
        "# Generate 50 random planes and calculate their sum distances\n",
        "num_random_planes = 50\n",
        "sum_distances_random_planes = []\n",
        "\n",
        "for _ in range(num_random_planes):\n",
        "    # Generate a random plane by selecting two random data points\n",
        "    random_indices = np.random.choice(num_samples, 2, replace=False)\n",
        "    plane_point = X[random_indices[0]]\n",
        "    plane_normal = X[random_indices[1]] - plane_point\n",
        "    plane_normal /= np.linalg.norm(plane_normal)\n",
        "\n",
        "    # Calculate sum of distances\n",
        "    sum_distance = sum_distances_to_plane(plane_normal, plane_point, X_centered)\n",
        "    sum_distances_random_planes.append(sum_distance)\n",
        "\n",
        "# Calculate sum of distances for the principal components plane\n",
        "sum_distance_principal_components = sum_distances_to_plane(principal_components[:, 0], mean_vec, X_centered)\n",
        "\n",
        "print(\"Sum of distances for random planes:\", sum_distances_random_planes)\n",
        "print(\"Sum of distances for principal components plane:\", sum_distance_principal_components)\n",
        "print(\"Is the sum of distances least for the principal components plane?\",\n",
        "      sum_distance_principal_components <= min(sum_distances_random_planes))"
      ],
      "metadata": {
        "colab": {
          "base_uri": "https://localhost:8080/"
        },
        "id": "ZMeJmBYDGVtR",
        "outputId": "ae720b58-0b2b-4dad-86d2-80303e87e274"
      },
      "id": "ZMeJmBYDGVtR",
      "execution_count": 19,
      "outputs": [
        {
          "output_type": "stream",
          "name": "stdout",
          "text": [
            "Sum of distances for random planes: [532.4151425093023, 504.54980425868644, 383.24388690332296, 569.3151214799045, 347.8249958494118, 463.83052069042196, 495.74597617112954, 406.91416471828677, 369.4232201230117, 313.645521812919, 708.3188777736088, 502.3677065704577, 682.212380523835, 513.0834713308132, 306.97550172055793, 568.5341764779935, 545.0026515857459, 563.6499801014721, 445.6141961483419, 192.7526016473585, 723.4837287706162, 563.5268825470104, 251.32073243060225, 254.375835095368, 287.8296837327546, 578.7507338852724, 261.4196006115002, 451.3739255806056, 317.320929203768, 310.58919427183474, 580.0401418572764, 842.5976986582161, 318.06469374394146, 640.9027759548535, 439.77815638866116, 765.5999913716325, 414.1323930231304, 454.35926577271465, 309.8732762784041, 689.4453784896366, 372.8319253106386, 567.2659974546001, 261.2452741489482, 199.94319239805793, 432.2276505588093, 426.5191597484502, 428.81335915460187, 559.1882378712977, 327.99835859539667, 372.0734546668329]\n",
            "Sum of distances for principal components plane: 179.66979828741438\n",
            "Is the sum of distances least for the principal components plane? True\n"
          ]
        }
      ]
    },
    {
      "cell_type": "markdown",
      "source": [
        "Hence it is verified that the distance is minimum for the plane obtained by the PCA"
      ],
      "metadata": {
        "id": "6caeJfmcXF4o"
      },
      "id": "6caeJfmcXF4o"
    }
  ],
  "metadata": {
    "kernelspec": {
      "display_name": "Python 3 (ipykernel)",
      "language": "python",
      "name": "python3"
    },
    "language_info": {
      "codemirror_mode": {
        "name": "ipython",
        "version": 3
      },
      "file_extension": ".py",
      "mimetype": "text/x-python",
      "name": "python",
      "nbconvert_exporter": "python",
      "pygments_lexer": "ipython3",
      "version": "3.9.13"
    },
    "colab": {
      "provenance": []
    }
  },
  "nbformat": 4,
  "nbformat_minor": 5
}